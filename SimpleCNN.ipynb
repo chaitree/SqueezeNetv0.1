{
 "cells": [
  {
   "cell_type": "code",
   "execution_count": null,
   "metadata": {},
   "outputs": [],
   "source": [
    "# !pip install tensorflow==1.15.0"
   ]
  },
  {
   "cell_type": "code",
   "execution_count": null,
   "metadata": {},
   "outputs": [],
   "source": [
    "import numpy as np\n",
    "import pandas as pd\n",
    "import matplotlib.pyplot as plt\n",
    "import tensorflow as tf\n",
    "from sklearn.metrics import accuracy_score\n",
    "from tensorflow.contrib.layers import conv2d, avg_pool2d, max_pool2d\n",
    "from tensorflow.contrib.layers import batch_norm, l2_regularizer\n",
    "print(tf.__version__)"
   ]
  },
  {
   "cell_type": "code",
   "execution_count": null,
   "metadata": {},
   "outputs": [],
   "source": [
    "# getting MNIST dataset\n",
    "\n",
    "mnist = tf.keras.datasets.mnist\n",
    "\n",
    "(x_train, y_train), (x_test, y_test) = mnist.load_data()\n",
    "x_train, x_test = x_train / 255.0, x_test / 255.0"
   ]
  },
  {
   "cell_type": "code",
   "execution_count": null,
   "metadata": {},
   "outputs": [],
   "source": [
    "import cv2"
   ]
  },
  {
   "cell_type": "code",
   "execution_count": null,
   "metadata": {},
   "outputs": [],
   "source": [
    "# parameters of network\n",
    "\n",
    "img_height = 28\n",
    "img_width = 28\n",
    "img_channel = 1\n",
    "batch_size = 64\n",
    "max_iter = 8000\n",
    "lr = 0.1"
   ]
  },
  {
   "cell_type": "code",
   "execution_count": null,
   "metadata": {},
   "outputs": [],
   "source": [
    "num_classes = 10"
   ]
  },
  {
   "cell_type": "code",
   "execution_count": null,
   "metadata": {},
   "outputs": [],
   "source": []
  },
  {
   "cell_type": "code",
   "execution_count": null,
   "metadata": {},
   "outputs": [],
   "source": [
    "# defining CNN architecture\n",
    "\n",
    "def simpleNN(inputs, num_classes):\n",
    "    with tf.variable_scope(\"simpleNN\"):\n",
    "        net = conv2d(inputs, 64, [7, 7], stride=2, scope='conv1')\n",
    "        print(net.name, net.get_shape().as_list())\n",
    "        net = conv2d(inputs, 64, [7, 7], stride=2, scope='conv2')\n",
    "        print(net.name, net.get_shape().as_list())\n",
    "        net = max_pool2d(net, [3, 3], stride=2, scope='maxpool1')\n",
    "        print(net.name, net.get_shape().as_list())\n",
    "        net = conv2d(inputs, 32, [7, 7], stride=2, scope='conv4')\n",
    "        print(net.name, net.get_shape().as_list())\n",
    "        net = conv2d(inputs, 32, [7, 7], stride=2, scope='conv5')\n",
    "        net = max_pool2d(net, [3, 3], stride=2, scope='maxpool6')\n",
    "        print(net.name, net.get_shape().as_list())\n",
    "        net = conv2d(net, num_classes, [1, 1], stride=1, scope='conv7')\n",
    "        print(net.name, net.get_shape().as_list())\n",
    "        net_shape = net.get_shape().as_list()\n",
    "#         net = avg_pool2d(net, [13, 13], stride=1, scope='avgpool10')\n",
    "        net = avg_pool2d(net, [net_shape[1],net_shape[1]], stride=1, scope='avgpool8')\n",
    "        print(net.name, net.get_shape().as_list())\n",
    "        \n",
    "        net = tf.squeeze(net, [2], name='logits')\n",
    "        print(net.name, net.get_shape().as_list())\n",
    "        return net\n"
   ]
  },
  {
   "cell_type": "code",
   "execution_count": null,
   "metadata": {},
   "outputs": [],
   "source": []
  },
  {
   "cell_type": "code",
   "execution_count": null,
   "metadata": {},
   "outputs": [],
   "source": [
    "# define a function for iterating through mini-batches of the data\n",
    "def batch_generator(n_iter, X, y,  batch_size=16, \n",
    "                    shuffle=False, random_seed=None):\n",
    "    batch_nos = [i for i in range(0, X.shape[0], batch_size)]\n",
    "    i = int((n_iter%len(batch_nos)))\n",
    "#     print(\"batch : \", i)\n",
    "    if shuffle:  # shuffles sample order in output batch\n",
    "        \n",
    "        i = np.random.choice(batch_nos)\n",
    "#     print(\"batch : \", i)\n",
    "    return X[i:i+batch_size, :], y[i:i+batch_size]"
   ]
  },
  {
   "cell_type": "code",
   "execution_count": null,
   "metadata": {},
   "outputs": [],
   "source": []
  },
  {
   "cell_type": "code",
   "execution_count": null,
   "metadata": {},
   "outputs": [],
   "source": [
    "# Initialize placeholders \n",
    "x = tf.placeholder(dtype = tf.float32, shape = [None, img_height, img_width, img_channel])\n",
    "y = tf.placeholder(dtype = tf.int32, shape = [None,1])\n",
    "# logits = tf.placeholder(dtype = tf.int32, shape = [None,1,1,num_classes])\n",
    "\n",
    "\n",
    "logits = simpleNN(x, num_classes)\n",
    "# Define a loss function\n",
    "loss = tf.reduce_mean(tf.nn.sparse_softmax_cross_entropy_with_logits(labels = y, \n",
    "                                                                    logits = logits))\n",
    "# Define an optimizer \n",
    "train_op = tf.train.AdamOptimizer(learning_rate=lr).minimize(loss)\n",
    "\n",
    "# # Convert logits to label indexes\n",
    "# correct_pred = tf.argmax(logits, 2)\n",
    "# print(correct_pred.get_shape())\n",
    "# # Define an accuracy metric\n",
    "# accuracy = tf.compat.v1.metrics.accuracy(tf.cast(correct_pred, tf.float32), y)"
   ]
  },
  {
   "cell_type": "code",
   "execution_count": null,
   "metadata": {},
   "outputs": [],
   "source": [
    "# training and testing simpleCNN\n",
    "\n",
    "\n",
    "tf.set_random_seed(1234)\n",
    "sess = tf.Session()\n",
    "\n",
    "sess.run(tf.global_variables_initializer())\n",
    "\n",
    "for i in range(max_iter):\n",
    "#         print('EPOCH', i)\n",
    "        input_images, input_labels = batch_generator(i, x_train, y_train, batch_size, shuffle=True)\n",
    "#         print(input_images.shape, input_labels.shape)\n",
    "        input_images = np.resize(input_images,(input_images.shape[0], input_images.shape[1], input_images.shape[2],1))\n",
    "        input_labels = np.resize(input_labels, (input_labels.shape[0],1))\n",
    "        logits1, op, iter_loss = sess.run([logits, train_op, loss], feed_dict={x: input_images, y: input_labels})\n",
    "    \n",
    "        if i % 10 == 0:\n",
    "#             print(input_images.shape)\n",
    "#             print(np.array(logits1).shape)\n",
    "            pred = np.argmax(logits1, 2)\n",
    "#             print(\"pred : \", pred)\n",
    "#             print(\"logits1 : \", logits1)\n",
    "#             print(\"actual : \", input_labels)\n",
    "            acc= accuracy_score(input_labels, pred)\n",
    "            print(\"Loss: \", iter_loss, \"acc : \", acc)\n",
    "saver = tf.train.Saver()\n",
    "saver.save(sess, \"./model_ckpt/simpleNN.ckpt\")\n",
    "#         print('DONE WITH EPOCH')\n",
    "\n",
    "\n",
    "pred_test = []\n",
    "for i in range(x_test.shape[0]):\n",
    "    logits1 = sess.run([logits], feed_dict={x: np.resize(x_test[i], (1,img_height, img_width, img_channel))})\n",
    "#     print(np.array(logits1).shape)\n",
    "#     print(np.resize(test_images[i], (1,img_height, img_width, img_channel)).shape)\n",
    "    pred = np.argmax(logits1,3)\n",
    "    pred_test.append(pred[0][0][0])\n",
    "acc= accuracy_score(y_test, pred_test)\n",
    "print(\"test accuracy : \", acc)\n",
    "sess.close()"
   ]
  },
  {
   "cell_type": "code",
   "execution_count": null,
   "metadata": {},
   "outputs": [],
   "source": []
  },
  {
   "cell_type": "code",
   "execution_count": null,
   "metadata": {},
   "outputs": [],
   "source": []
  },
  {
   "cell_type": "code",
   "execution_count": null,
   "metadata": {},
   "outputs": [],
   "source": []
  },
  {
   "cell_type": "code",
   "execution_count": null,
   "metadata": {},
   "outputs": [],
   "source": []
  },
  {
   "cell_type": "code",
   "execution_count": null,
   "metadata": {},
   "outputs": [],
   "source": []
  },
  {
   "cell_type": "code",
   "execution_count": null,
   "metadata": {},
   "outputs": [],
   "source": []
  }
 ],
 "metadata": {
  "kernelspec": {
   "display_name": "Python 3",
   "language": "python",
   "name": "python3"
  },
  "language_info": {
   "codemirror_mode": {
    "name": "ipython",
    "version": 3
   },
   "file_extension": ".py",
   "mimetype": "text/x-python",
   "name": "python",
   "nbconvert_exporter": "python",
   "pygments_lexer": "ipython3",
   "version": "3.7.9"
  }
 },
 "nbformat": 4,
 "nbformat_minor": 2
}
